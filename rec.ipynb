{
 "cells": [
  {
   "cell_type": "markdown",
   "metadata": {},
   "source": [
    "# Approach 1: Two Types of Distances:\n",
    "1. Eucledian's Distance (L2 Norms):\n",
    "= sqrt of (x2-x1)^2 + (y2-y1)^2\n",
    "\n",
    "2. Manhattan's Distance (L1 Norms):\n",
    "= |(x2-x1)| + |(y2-y1)|\n",
    "\n",
    "### Derived from Minkowski where representation by Lp Norms"
   ]
  },
  {
   "cell_type": "markdown",
   "metadata": {},
   "source": [
    "# Approach 2:"
   ]
  },
  {
   "cell_type": "markdown",
   "metadata": {},
   "source": [
    "![](similarity_and_distance.jpg)"
   ]
  },
  {
   "cell_type": "markdown",
   "metadata": {},
   "source": [
    "# There are 3 types of recommandation systems:\n",
    "1. Collaborative filtering\n",
    "2. Content filtering\n",
    "3. Hybrid"
   ]
  },
  {
   "cell_type": "markdown",
   "metadata": {},
   "source": []
  }
 ],
 "metadata": {
  "kernelspec": {
   "display_name": "base",
   "language": "python",
   "name": "python3"
  },
  "language_info": {
   "name": "python",
   "version": "3.10.9"
  },
  "orig_nbformat": 4
 },
 "nbformat": 4,
 "nbformat_minor": 2
}
